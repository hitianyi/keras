{
 "cells": [
  {
   "cell_type": "code",
   "execution_count": 3,
   "metadata": {
    "collapsed": false
   },
   "outputs": [],
   "source": [
    "import numpy as np\n",
    "from keras.datasets import mnist\n",
    "from keras.utils import np_utils\n",
    "from keras.models import Sequential\n",
    "from keras.layers import Dense,Dropout\n",
    "from keras.optimizers import SGD"
   ]
  },
  {
   "cell_type": "code",
   "execution_count": 6,
   "metadata": {
    "collapsed": false
   },
   "outputs": [
    {
     "name": "stdout",
     "output_type": "stream",
     "text": [
      "x_shape: (60000, 28, 28)\n",
      "y_shape: (60000,)\n",
      "Epoch 1/10\n",
      "60000/60000 [==============================] - 13s - loss: 0.4500 - acc: 0.8627    \n",
      "Epoch 2/10\n",
      "60000/60000 [==============================] - 9s - loss: 0.2869 - acc: 0.9149     \n",
      "Epoch 3/10\n",
      "60000/60000 [==============================] - 9s - loss: 0.2425 - acc: 0.9276     \n",
      "Epoch 4/10\n",
      "60000/60000 [==============================] - 9s - loss: 0.2143 - acc: 0.9362     \n",
      "Epoch 5/10\n",
      "60000/60000 [==============================] - 9s - loss: 0.2000 - acc: 0.9409     \n",
      "Epoch 6/10\n",
      "60000/60000 [==============================] - 9s - loss: 0.1858 - acc: 0.9452     \n",
      "Epoch 7/10\n",
      "60000/60000 [==============================] - 9s - loss: 0.1810 - acc: 0.9465     \n",
      "Epoch 8/10\n",
      "60000/60000 [==============================] - 9s - loss: 0.1687 - acc: 0.9500     \n",
      "Epoch 9/10\n",
      "60000/60000 [==============================] - 9s - loss: 0.1578 - acc: 0.9532     \n",
      "Epoch 10/10\n",
      "60000/60000 [==============================] - 9s - loss: 0.1549 - acc: 0.9542     \n",
      " 9472/10000 [===========================>..] - ETA: 0s\n",
      "test loss 0.107040329377\n",
      "test accuracy 0.9692\n",
      "59840/60000 [============================>.] - ETA: 0strain loss 0.0749645325706\n",
      "train accuracy 0.97735\n"
     ]
    }
   ],
   "source": [
    "# 载入数据\n",
    "(x_train,y_train),(x_test,y_test) = mnist.load_data()\n",
    "# (60000,28,28)\n",
    "print('x_shape:',x_train.shape)\n",
    "# (60000)\n",
    "print('y_shape:',y_train.shape)\n",
    "# (60000,28,28)->(60000,784)\n",
    "x_train = x_train.reshape(x_train.shape[0],-1)/255.0\n",
    "x_test = x_test.reshape(x_test.shape[0],-1)/255.0\n",
    "# 换one hot格式\n",
    "y_train = np_utils.to_categorical(y_train,num_classes=10)\n",
    "y_test = np_utils.to_categorical(y_test,num_classes=10)\n",
    "\n",
    "# 创建模型\n",
    "model = Sequential([\n",
    "        Dense(units=200,input_dim=784,bias_initializer='one',activation='tanh'),\n",
    "        Dropout(0.4),\n",
    "        Dense(units=100,bias_initializer='one',activation='tanh'),\n",
    "        Dropout(0.4),\n",
    "        Dense(units=10,bias_initializer='one',activation='softmax')\n",
    "    ])\n",
    "\n",
    "# 定义优化器\n",
    "sgd = SGD(lr=0.2)\n",
    "\n",
    "# 定义优化器，loss function，训练过程中计算准确率\n",
    "model.compile(\n",
    "    optimizer = sgd,\n",
    "    loss = 'categorical_crossentropy',\n",
    "    metrics=['accuracy'],\n",
    ")\n",
    "\n",
    "# 训练模型\n",
    "model.fit(x_train,y_train,batch_size=32,epochs=10)\n",
    "\n",
    "# 评估模型\n",
    "loss,accuracy = model.evaluate(x_test,y_test)\n",
    "print('\\ntest loss',loss)\n",
    "print('test accuracy',accuracy)\n",
    "\n",
    "loss,accuracy = model.evaluate(x_train,y_train)\n",
    "print('train loss',loss)\n",
    "print('train accuracy',accuracy)"
   ]
  },
  {
   "cell_type": "markdown",
   "metadata": {
    "collapsed": true
   },
   "source": [
    "<h3 align = \"center\">欢迎大家关注我的公众号，或者加我的微信与我交流。</h3>\n",
    "<center><img src=\"wx.png\" alt=\"FAO\" width=\"300\"></center> "
   ]
  },
  {
   "cell_type": "code",
   "execution_count": null,
   "metadata": {
    "collapsed": true
   },
   "outputs": [],
   "source": []
  }
 ],
 "metadata": {
  "anaconda-cloud": {},
  "kernelspec": {
   "display_name": "Python [default]",
   "language": "python",
   "name": "python3"
  },
  "language_info": {
   "codemirror_mode": {
    "name": "ipython",
    "version": 3
   },
   "file_extension": ".py",
   "mimetype": "text/x-python",
   "name": "python",
   "nbconvert_exporter": "python",
   "pygments_lexer": "ipython3",
   "version": "3.5.2"
  }
 },
 "nbformat": 4,
 "nbformat_minor": 1
}
