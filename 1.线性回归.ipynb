{
 "cells": [
  {
   "cell_type": "code",
   "execution_count": null,
   "metadata": {
    "collapsed": false
   },
   "outputs": [],
   "source": [
    "import keras\n",
    "import numpy as np\n",
    "import matplotlib.pyplot as plt\n",
    "# Sequential按顺序构成的模型\n",
    "from keras.models import Sequential\n",
    "# Dense全连接层\n",
    "from keras.layers import Dense"
   ]
  },
  {
   "cell_type": "code",
   "execution_count": null,
   "metadata": {
    "collapsed": false
   },
   "outputs": [],
   "source": [
    "# 使用numpy生成100个随机点\n",
    "x_data = np.random.rand(100)\n",
    "noise = np.random.normal(0,0.01,x_data.shape)\n",
    "y_data = x_data*0.1 + 0.2 + noise\n",
    "\n",
    "# 显示随机点\n",
    "plt.scatter(x_data,y_data)\n",
    "plt.show()"
   ]
  },
  {
   "cell_type": "code",
   "execution_count": null,
   "metadata": {
    "collapsed": false
   },
   "outputs": [],
   "source": [
    "# 构建一个顺序模型\n",
    "model = Sequential()\n",
    "# 在模型中添加一个全连接层\n",
    "model.add(Dense(units=1,input_dim=1))\n",
    "# sgd:Stochastic gradient descent，随机梯度下降法\n",
    "# mse:Mean Squared Error，均方误差\n",
    "model.compile(optimizer='sgd',loss='mse')\n",
    "\n",
    "# 训练3001个批次\n",
    "for step in range(3001):\n",
    "    # 每次训练一个批次\n",
    "    cost = model.train_on_batch(x_data,y_data)\n",
    "    # 每500个batch打印一次cost值\n",
    "    if step % 500 == 0:\n",
    "        print('cost:',cost)\n",
    "        \n",
    "# 打印权值和偏置值\n",
    "W,b = model.layers[0].get_weights()\n",
    "print('W:',W,'b:',b)\n",
    "\n",
    "# x_data输入网络中，得到预测值y_pred\n",
    "y_pred = model.predict(x_data)\n",
    "\n",
    "# 显示随机点\n",
    "plt.scatter(x_data,y_data)\n",
    "# 显示预测结果\n",
    "plt.plot(x_data,y_pred,'r-',lw=3)\n",
    "plt.show()"
   ]
  },
  {
   "cell_type": "markdown",
   "metadata": {
    "collapsed": true
   },
   "source": [
    "<h3 align = \"center\">欢迎大家关注我的公众号，或者加我的微信与我交流。</h3>\n",
    "<center><img src=\"wx.png\" alt=\"FAO\" width=\"300\"></center> "
   ]
  },
  {
   "cell_type": "code",
   "execution_count": null,
   "metadata": {
    "collapsed": true
   },
   "outputs": [],
   "source": []
  }
 ],
 "metadata": {
  "anaconda-cloud": {},
  "kernelspec": {
   "display_name": "Python [default]",
   "language": "python",
   "name": "python3"
  },
  "language_info": {
   "codemirror_mode": {
    "name": "ipython",
    "version": 3
   },
   "file_extension": ".py",
   "mimetype": "text/x-python",
   "name": "python",
   "nbconvert_exporter": "python",
   "pygments_lexer": "ipython3",
   "version": "3.5.2"
  }
 },
 "nbformat": 4,
 "nbformat_minor": 1
}
