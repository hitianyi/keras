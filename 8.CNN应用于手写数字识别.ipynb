{
 "cells": [
  {
   "cell_type": "code",
   "execution_count": 9,
   "metadata": {
    "collapsed": false
   },
   "outputs": [],
   "source": [
    "import numpy as np\n",
    "from keras.datasets import mnist\n",
    "from keras.utils import np_utils\n",
    "from keras.models import Sequential\n",
    "from keras.layers import Dense,Dropout,Convolution2D,MaxPooling2D,Flatten\n",
    "from keras.optimizers import Adam"
   ]
  },
  {
   "cell_type": "code",
   "execution_count": 10,
   "metadata": {
    "collapsed": false
   },
   "outputs": [
    {
     "name": "stdout",
     "output_type": "stream",
     "text": [
      "Epoch 1/10\n",
      "60000/60000 [==============================] - 23s - loss: 0.3306 - acc: 0.9063    \n",
      "Epoch 2/10\n",
      "60000/60000 [==============================] - 22s - loss: 0.0960 - acc: 0.9708    \n",
      "Epoch 3/10\n",
      "60000/60000 [==============================] - 22s - loss: 0.0689 - acc: 0.9790    \n",
      "Epoch 4/10\n",
      "60000/60000 [==============================] - 22s - loss: 0.0536 - acc: 0.9837    \n",
      "Epoch 5/10\n",
      "60000/60000 [==============================] - 22s - loss: 0.0443 - acc: 0.9865    \n",
      "Epoch 6/10\n",
      "60000/60000 [==============================] - 22s - loss: 0.0375 - acc: 0.9886    \n",
      "Epoch 7/10\n",
      "60000/60000 [==============================] - 22s - loss: 0.0325 - acc: 0.9897    \n",
      "Epoch 8/10\n",
      "60000/60000 [==============================] - 22s - loss: 0.0282 - acc: 0.9914    \n",
      "Epoch 9/10\n",
      "60000/60000 [==============================] - 22s - loss: 0.0259 - acc: 0.9919    \n",
      "Epoch 10/10\n",
      "60000/60000 [==============================] - 22s - loss: 0.0216 - acc: 0.9935    \n",
      " 9728/10000 [============================>.] - ETA: 0stest loss 0.022989032609\n",
      "test accuracy 0.9923\n"
     ]
    }
   ],
   "source": [
    "# 载入数据\n",
    "(x_train,y_train),(x_test,y_test) = mnist.load_data()\n",
    "# (60000,28,28)->(60000,28,28,1)\n",
    "x_train = x_train.reshape(-1,28,28,1)/255.0\n",
    "x_test = x_test.reshape(-1,28,28,1)/255.0\n",
    "# 换one hot格式\n",
    "y_train = np_utils.to_categorical(y_train,num_classes=10)\n",
    "y_test = np_utils.to_categorical(y_test,num_classes=10)\n",
    "\n",
    "# 定义顺序模型\n",
    "model = Sequential()\n",
    "\n",
    "# 第一个卷积层\n",
    "# input_shape 输入平面\n",
    "# filters 卷积核/滤波器个数\n",
    "# kernel_size 卷积窗口大小\n",
    "# strides 步长\n",
    "# padding padding方式 same/valid\n",
    "# activation 激活函数\n",
    "model.add(Convolution2D(\n",
    "    input_shape = (28,28,1),\n",
    "    filters = 32,\n",
    "    kernel_size = 5,\n",
    "    strides = 1,\n",
    "    padding = 'same',\n",
    "    activation = 'relu'\n",
    "))\n",
    "# 第一个池化层\n",
    "model.add(MaxPooling2D(\n",
    "    pool_size = 2,\n",
    "    strides = 2,\n",
    "    padding = 'same',\n",
    "))\n",
    "# 第二个卷积层\n",
    "model.add(Convolution2D(64,5,strides=1,padding='same',activation = 'relu'))\n",
    "# 第二个池化层\n",
    "model.add(MaxPooling2D(2,2,'same'))\n",
    "# 把第二个池化层的输出扁平化为1维\n",
    "model.add(Flatten())\n",
    "# 第一个全连接层\n",
    "model.add(Dense(1024,activation = 'relu'))\n",
    "# Dropout\n",
    "model.add(Dropout(0.5))\n",
    "# 第二个全连接层\n",
    "model.add(Dense(10,activation='softmax'))\n",
    "\n",
    "# 定义优化器\n",
    "adam = Adam(lr=1e-4)\n",
    "\n",
    "# 定义优化器，loss function，训练过程中计算准确率\n",
    "model.compile(optimizer=adam,loss='categorical_crossentropy',metrics=['accuracy'])\n",
    "\n",
    "# 训练模型\n",
    "model.fit(x_train,y_train,batch_size=64,epochs=10)\n",
    "\n",
    "# 评估模型\n",
    "loss,accuracy = model.evaluate(x_test,y_test)\n",
    "\n",
    "print('test loss',loss)\n",
    "print('test accuracy',accuracy)"
   ]
  },
  {
   "cell_type": "markdown",
   "metadata": {
    "collapsed": true
   },
   "source": [
    "<h3 align = \"center\">欢迎大家关注我的公众号，或者加我的微信与我交流。</h3>\n",
    "<center><img src=\"wx.png\" alt=\"FAO\" width=\"300\"></center> "
   ]
  },
  {
   "cell_type": "code",
   "execution_count": null,
   "metadata": {
    "collapsed": true
   },
   "outputs": [],
   "source": []
  }
 ],
 "metadata": {
  "anaconda-cloud": {},
  "kernelspec": {
   "display_name": "Python [default]",
   "language": "python",
   "name": "python3"
  },
  "language_info": {
   "codemirror_mode": {
    "name": "ipython",
    "version": 3
   },
   "file_extension": ".py",
   "mimetype": "text/x-python",
   "name": "python",
   "nbconvert_exporter": "python",
   "pygments_lexer": "ipython3",
   "version": "3.5.2"
  }
 },
 "nbformat": 4,
 "nbformat_minor": 1
}
